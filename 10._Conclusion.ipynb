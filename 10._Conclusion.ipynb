{
 "metadata": {
  "celltoolbar": "Slideshow",
  "name": "",
  "signature": "sha256:16fbd21480dc4975c6ef25f7f386c1fd9c6c0ad8a41659037cf33da2f48fe1a7"
 },
 "nbformat": 3,
 "nbformat_minor": 0,
 "worksheets": [
  {
   "cells": [
    {
     "cell_type": "markdown",
     "metadata": {
      "slideshow": {
       "slide_type": "slide"
      }
     },
     "source": [
      "# Conclusion\n",
      "\n",
      "- The Python scientific computing environment keeps evolving\n",
      "    - IPython development (Data Science team at Berkeley)\n",
      "    - Scikit-learn (INRIA team)\n",
      "    - Lots of contributions every year, spoted at SciPy Conference\n",
      "- New arrivals: **deep learning**\n",
      "    - Theano and Pylearn2 (LISA Lab, Univeristy of Montreal)\n",
      "    - Theano\n",
      "        - Expressions involving NumPy arrays efficiently computed in GPUs\n",
      "    - Pylearn2\n",
      "        - ConvNets"
     ]
    },
    {
     "cell_type": "markdown",
     "metadata": {
      "slideshow": {
       "slide_type": "skip"
      }
     },
     "source": [
      "In [his book](http://www.computervisionmodels.com/), Prince argues that computer vision should be understood in terms of measurements (images), the world state, a model (defining the statistical relationships between the observations and the world), parameters, and learning and inference algorithms.\n",
      "The presented environment can address all these elements in modern computer vision R&D. Also, such a environment keeps evolving. For example, in the raising field of deep learning vision, packages as [Pylearn2](http://deeplearning.net/software/pylearn2/) and [Theano](http://deeplearning.net/software/theano/) are promising tools that could become an important part of the Python ecosystem for scientific computing in a near future."
     ]
    }
   ],
   "metadata": {}
  }
 ]
}