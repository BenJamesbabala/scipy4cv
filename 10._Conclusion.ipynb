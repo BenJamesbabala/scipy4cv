{
 "metadata": {
  "celltoolbar": "Slideshow",
  "name": "",
  "signature": "sha256:6393c3a2d222943f096d9a9bfc9d6795bf18843e984c1047099fb3c45ceb5c08"
 },
 "nbformat": 3,
 "nbformat_minor": 0,
 "worksheets": [
  {
   "cells": [
    {
     "cell_type": "markdown",
     "metadata": {
      "slideshow": {
       "slide_type": "slide"
      }
     },
     "source": [
      "# Conclusion\n",
      "\n",
      "- The Python scientific computing environment keeps evolving\n",
      "    - IPython development (Data Science team at Berkeley)\n",
      "    - Scikit-learn (INRIA team)\n",
      "    - Lots of contributions every year, spoted at SciPy Conference\n",
      "- New arrivals: **deep learning**\n",
      "    - Theano and Pylearn2 (LISA Lab, Univeristy of Montreal)\n",
      "    - Theano\n",
      "        - Expressions involving NumPy arrays efficiently computed in GPUs\n",
      "    - Pylearn2\n",
      "        - ConvNets"
     ]
    },
    {
     "cell_type": "markdown",
     "metadata": {
      "slideshow": {
       "slide_type": "skip"
      }
     },
     "source": [
      "In [his book](http://www.computervisionmodels.com/), Prince argues that computer vision should be understood in terms of measurements (images), the world state, a model (defining the statistical relationships between the observations and the world), parameters, and learning and inference algorithms.\n",
      "The presented environment can address all these elements in modern computer vision R&D. Also, such a environment keeps evolving. For example, in the raising field of deep learning vision, packages as [Pylearn2](http://deeplearning.net/software/pylearn2/) and [Theano](http://deeplearning.net/software/theano/) are promising tools that could become an important part of the Python ecosystem for scientific computing in a near future."
     ]
    },
    {
     "cell_type": "markdown",
     "metadata": {
      "slideshow": {
       "slide_type": "slide"
      }
     },
     "source": [
      "## Where to go from here?\n",
      "\n",
      "- Jan Erik Solem's book, *Programming Computer Vision with Python*\n",
      "- Scikit-learn tutorials\n",
      "-  [*Scipy lecture notes*](http://scipy-lectures.github.io/intro/intro.html)"
     ]
    },
    {
     "cell_type": "markdown",
     "metadata": {
      "slideshow": {
       "slide_type": "slide"
      }
     },
     "source": [
      "## Thank you\n",
      "\n",
      "**Questions?**"
     ]
    }
   ],
   "metadata": {}
  }
 ]
}