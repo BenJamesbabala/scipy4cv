{
 "metadata": {
  "celltoolbar": "Slideshow",
  "name": "",
  "signature": "sha256:55be09089a8aa2e57884f16232abf0c1ae60573b6315ae20f0477989faf86f7f"
 },
 "nbformat": 3,
 "nbformat_minor": 0,
 "worksheets": [
  {
   "cells": [
    {
     "cell_type": "code",
     "collapsed": false,
     "input": [
      "import cv2"
     ],
     "language": "python",
     "metadata": {
      "slideshow": {
       "slide_type": "skip"
      }
     },
     "outputs": [],
     "prompt_number": 1
    },
    {
     "cell_type": "markdown",
     "metadata": {
      "slideshow": {
       "slide_type": "skip"
      }
     },
     "source": [
      "# IPython Parallel\n",
      "\n",
      "Low-level code written in Python, as looping in big arrays, can be slow, mainly because Python is dynamically typed and interpreted. However, in the scientific computing environment described above, this is rarely a problem: the OpenCV interface just access op\n",
      "timized C/C++ code, and most of the software in the SciPy Stack relies in a base of numerical software implemented in C, C++ and Fortran, including the efficient NumPy arrays."
     ]
    },
    {
     "cell_type": "markdown",
     "metadata": {
      "slideshow": {
       "slide_type": "skip"
      }
     },
     "source": [
      "But in the few situations where a low-level looping must be implemented (if the task\n",
      "cannot be implemented using NumPy capabilities) or the functionality of a external library is needed, [Cython](http://cython.org) raises as an alternative. Cython is a static compiler capable of working in a super-set of the Python language that supports C-like static type declarations. It compiles Python code to C, further producing a Python module that can be imported and used from the interpreter. As noted by [Behnel *et al.*]((http://dx.doi.org/10.1109/MCSE.2010.118)), the key idea behind Cython is the **Pareto Principle**, also known as the \"80/20 rule\": 80% of the run-time is spent in 20% of the source code. Cython\u2019s goal is to speed up the critical parts of the code while avoiding too much overhead on coding by the programmer."
     ]
    },
    {
     "cell_type": "markdown",
     "metadata": {
      "slideshow": {
       "slide_type": "skip"
      }
     },
     "source": [
      "Other performance issues can be addressed by parallelization. IPython.parallel is a\n",
      "powerful architecture for parallel and distributed computing supporting different styles of\n",
      "parallelism, such as single program, multiple data (SPMD) and multiple program, multiple\n",
      "data (MPMD). Parallel applications can be easily developed, executed and monitored in-\n",
      "teractively from the IPython shell. Computer vision tasks can involve large sets of images\n",
      "or big point clouds, but many times the parallelization of these tasks is trivial and, using\n",
      "IPython.parallel, implemented in a few lines of code. The dynamic load balancing feature\n",
      "allows the use of all the available processing threads in the computer or all the processing\n",
      "power available in a cluster, but keeping the interactive computing environment free from\n",
      "large amounts of specific code for parallel computing."
     ]
    },
    {
     "cell_type": "markdown",
     "metadata": {
      "slideshow": {
       "slide_type": "slide"
      }
     },
     "source": [
      "## Example 9 - Process a bundle of images in parallel\n",
      "\n",
      "In this example, SIFT descriptors of a reference image $I_1$ are computed. Then, descriptors are extracted for every image $I_n$ in a list, and the matches to $I_1$ descriptors are computed. The processing of the list is done in parallel, using all the available cores in the user\u2019s machine."
     ]
    },
    {
     "cell_type": "markdown",
     "metadata": {
      "slideshow": {
       "slide_type": "skip"
      }
     },
     "source": [
      "Let $D_1$ be an array containing the descriptors of $I_1$. In a system shell, an IPython cluster for parallel computing is started using:\n",
      "\n",
      "    ipcluster start --n=8"
     ]
    },
    {
     "cell_type": "code",
     "collapsed": false,
     "input": [
      "T1 = cv2.imread('/tmp/templeRing/templeR0001.png', cv2.IMREAD_GRAYSCALE)\n",
      "sift = cv2.SIFT(nfeatures=5000)\n",
      "_, D_1 = sift.detectAndCompute(T1, mask=None)"
     ],
     "language": "python",
     "metadata": {
      "slideshow": {
       "slide_type": "fragment"
      }
     },
     "outputs": [],
     "prompt_number": 2
    },
    {
     "cell_type": "markdown",
     "metadata": {
      "slideshow": {
       "slide_type": "skip"
      }
     },
     "source": [
      "Eight *nodes* are started (in this example, the number of clusters is selected based on the\n",
      "number of cores available in the user\u2019s machine). Back to the IPython shell, the next step is the creation of a `Client` object. A `LoadBalancedView` object is created to provide a load-balanced parallel execution:"
     ]
    },
    {
     "cell_type": "code",
     "collapsed": false,
     "input": [
      "from IPython.parallel import Client\n",
      "rc = Client()\n",
      "lview = rc.load_balanced_view()"
     ],
     "language": "python",
     "metadata": {
      "slideshow": {
       "slide_type": "fragment"
      }
     },
     "outputs": [],
     "prompt_number": 3
    },
    {
     "cell_type": "markdown",
     "metadata": {
      "slideshow": {
       "slide_type": "skip"
      }
     },
     "source": [
      "Next, a Python *decorator* is used to define a parallel function that computes the descriptors and the matches (the decorator starts with a \"`@`\" symbol). The function below takes a path to an image in the file system, computes the SIFT features and uses OpenCV\u2019s `BFMatcher` to get the matches to $D_1$ , returning the number of matches found and the image\u2019s path:"
     ]
    },
    {
     "cell_type": "code",
     "collapsed": false,
     "input": [
      "@lview.parallel()\n",
      "def get_num_matches(arg):    \n",
      "    fname, D_src = arg\n",
      "    import cv2\n",
      "    frame = cv2.imread(fname, cv2.IMREAD_GRAYSCALE)\n",
      "    sift = cv2.SIFT(nfeatures=5000)\n",
      "    _, D = sift.detectAndCompute(frame, mask=None)\n",
      "    matcher = cv2.BFMatcher(cv2.NORM_L2, crossCheck=True)\n",
      "    matches = matcher.match(D_src, D)\n",
      "    return fname, len(matches)"
     ],
     "language": "python",
     "metadata": {
      "slideshow": {
       "slide_type": "fragment"
      }
     },
     "outputs": [],
     "prompt_number": 4
    },
    {
     "cell_type": "markdown",
     "metadata": {
      "slideshow": {
       "slide_type": "skip"
      }
     },
     "source": [
      "IPython capability to access the system\u2019s shell is employed to list all the files in a direc\n",
      "tory and store the file paths in a list of strings, `fnames`. Finally, the `map` function calls `get_num_matches` to every string in the `fnames` list, automatically performing the load balance on the nodes:"
     ]
    },
    {
     "cell_type": "code",
     "collapsed": false,
     "input": [
      "fnames = !ls /tmp/templeRing/temple*.png\n",
      "args = [(fname, D_1) for fname in fnames]\n",
      "async_res = get_num_matches.map(args)"
     ],
     "language": "python",
     "metadata": {
      "slideshow": {
       "slide_type": "fragment"
      }
     },
     "outputs": [],
     "prompt_number": 5
    },
    {
     "cell_type": "code",
     "collapsed": false,
     "input": [
      "for f, n in async_res:\n",
      "    print f, n"
     ],
     "language": "python",
     "metadata": {
      "slideshow": {
       "slide_type": "fragment"
      }
     },
     "outputs": [
      {
       "output_type": "stream",
       "stream": "stdout",
       "text": [
        "/tmp/templeRing/templeR0001.png 802\n",
        "/tmp/templeRing/templeR0002.png"
       ]
      },
      {
       "output_type": "stream",
       "stream": "stdout",
       "text": [
        " 549\n",
        "/tmp/templeRing/templeR0003.png 491\n",
        "/tmp/templeRing/templeR0004.png 482\n",
        "/tmp/templeRing/templeR0005.png 470\n",
        "/tmp/templeRing/templeR0006.png 441\n",
        "/tmp/templeRing/templeR0007.png 401\n",
        "/tmp/templeRing/templeR0008.png 358\n",
        "/tmp/templeRing/templeR0009.png"
       ]
      },
      {
       "output_type": "stream",
       "stream": "stdout",
       "text": [
        " 393\n",
        "/tmp/templeRing/templeR0010.png 438\n",
        "/tmp/templeRing/templeR0011.png 456\n",
        "/tmp/templeRing/templeR0012.png"
       ]
      },
      {
       "output_type": "stream",
       "stream": "stdout",
       "text": [
        " 455\n",
        "/tmp/templeRing/templeR0013.png 444\n",
        "/tmp/templeRing/templeR0014.png 405\n",
        "/tmp/templeRing/templeR0015.png"
       ]
      },
      {
       "output_type": "stream",
       "stream": "stdout",
       "text": [
        " 436\n",
        "/tmp/templeRing/templeR0016.png 421\n",
        "/tmp/templeRing/templeR0017.png"
       ]
      },
      {
       "output_type": "stream",
       "stream": "stdout",
       "text": [
        " 410\n",
        "/tmp/templeRing/templeR0018.png 398\n",
        "/tmp/templeRing/templeR0019.png 408\n",
        "/tmp/templeRing/templeR0020.png"
       ]
      },
      {
       "output_type": "stream",
       "stream": "stdout",
       "text": [
        " 451\n",
        "/tmp/templeRing/templeR0021.png 430\n",
        "/tmp/templeRing/templeR0022.png"
       ]
      },
      {
       "output_type": "stream",
       "stream": "stdout",
       "text": [
        " 444\n",
        "/tmp/templeRing/templeR0023.png 454\n",
        "/tmp/templeRing/templeR0024.png"
       ]
      },
      {
       "output_type": "stream",
       "stream": "stdout",
       "text": [
        " 476\n",
        "/tmp/templeRing/templeR0025.png"
       ]
      },
      {
       "output_type": "stream",
       "stream": "stdout",
       "text": [
        " 475\n",
        "/tmp/templeRing/templeR0026.png 509\n",
        "/tmp/templeRing/templeR0027.png 509\n",
        "/tmp/templeRing/templeR0028.png"
       ]
      },
      {
       "output_type": "stream",
       "stream": "stdout",
       "text": [
        " 546\n",
        "/tmp/templeRing/templeR0029.png 558\n",
        "/tmp/templeRing/templeR0030.png 662\n",
        "/tmp/templeRing/templeR0031.png 577\n",
        "/tmp/templeRing/templeR0032.png"
       ]
      },
      {
       "output_type": "stream",
       "stream": "stdout",
       "text": [
        " 465\n",
        "/tmp/templeRing/templeR0033.png 477\n",
        "/tmp/templeRing/templeR0034.png"
       ]
      },
      {
       "output_type": "stream",
       "stream": "stdout",
       "text": [
        " 479\n",
        "/tmp/templeRing/templeR0035.png 457\n",
        "/tmp/templeRing/templeR0036.png"
       ]
      },
      {
       "output_type": "stream",
       "stream": "stdout",
       "text": [
        " 456\n",
        "/tmp/templeRing/templeR0037.png"
       ]
      },
      {
       "output_type": "stream",
       "stream": "stdout",
       "text": [
        " 473\n",
        "/tmp/templeRing/templeR0038.png 477\n",
        "/tmp/templeRing/templeR0039.png 473\n",
        "/tmp/templeRing/templeR0040.png 454\n",
        "/tmp/templeRing/templeR0041.png"
       ]
      },
      {
       "output_type": "stream",
       "stream": "stdout",
       "text": [
        " 461\n",
        "/tmp/templeRing/templeR0042.png 431\n",
        "/tmp/templeRing/templeR0043.png"
       ]
      },
      {
       "output_type": "stream",
       "stream": "stdout",
       "text": [
        " 442\n",
        "/tmp/templeRing/templeR0044.png"
       ]
      },
      {
       "output_type": "stream",
       "stream": "stdout",
       "text": [
        " 454\n",
        "/tmp/templeRing/templeR0045.png 448\n",
        "/tmp/templeRing/templeR0046.png"
       ]
      },
      {
       "output_type": "stream",
       "stream": "stdout",
       "text": [
        " 454\n",
        "/tmp/templeRing/templeR0047.png 459\n"
       ]
      }
     ],
     "prompt_number": 6
    },
    {
     "cell_type": "markdown",
     "metadata": {
      "slideshow": {
       "slide_type": "skip"
      }
     },
     "source": [
      "This simple example is able to explore all the available cores in the local machine, just asking for a few extra lines of code. But the parallel computing capabilities in IPython go farbeyond, supporting SPMD and MPMD parallelism and the use of StarCluster for execution\n",
      "in Amazon\u2019s Elastic Compute Cloud (EC$_2$). The interested reader is referred to the section [Using IPython for parallel computing in the IPython](http://ipython.org/ipython-doc/stable/parallel/index.html) documentation."
     ]
    }
   ],
   "metadata": {}
  }
 ]
}