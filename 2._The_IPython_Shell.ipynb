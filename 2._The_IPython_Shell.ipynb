{
 "metadata": {
  "celltoolbar": "Slideshow",
  "name": "",
  "signature": "sha256:7f33721fcab37c174173afbd4bd2dd9fff8b0e58ac896d4997684cc74dd267c2"
 },
 "nbformat": 3,
 "nbformat_minor": 0,
 "worksheets": [
  {
   "cells": [
    {
     "cell_type": "markdown",
     "metadata": {
      "slideshow": {
       "slide_type": "slide"
      }
     },
     "source": [
      "# The IPython shell"
     ]
    },
    {
     "cell_type": "markdown",
     "metadata": {
      "slideshow": {
       "slide_type": "fragment"
      }
     },
     "source": [
      "- IPython is an *enhanced* Python shell for **interactive** computing\n",
      "- Provides facilities for distributed and parallel computing \n",
      "- Allows interactive evaluation of results"
     ]
    },
    {
     "cell_type": "code",
     "collapsed": false,
     "input": [
      "r = 3.\n",
      "2 * pi * r"
     ],
     "language": "python",
     "metadata": {
      "slideshow": {
       "slide_type": "fragment"
      }
     },
     "outputs": [
      {
       "metadata": {},
       "output_type": "pyout",
       "prompt_number": 1,
       "text": [
        "18.84955592153876"
       ]
      }
     ],
     "prompt_number": 1
    },
    {
     "cell_type": "markdown",
     "metadata": {
      "slideshow": {
       "slide_type": "subslide"
      }
     },
     "source": [
      "> This flexible style matches well **the spirit of computing in a scientific context**, in\n",
      "> which **determining what computations must be performed next often requires significant**\n",
      "> **work**. An interactive environment lets scientists look at data, test new ideas, combine\n",
      "> algorithmic approaches, and evaluate their outcomes directly.\n",
      "> \n",
      "> [P\u00e9rez and Granger, *IPython: A System for Interactive Scientific Computing*](http://dx.doi.org/10.1109/MCSE.2007.53)\n"
     ]
    },
    {
     "cell_type": "markdown",
     "metadata": {
      "slideshow": {
       "slide_type": "skip"
      }
     },
     "source": [
      "IPython is an enhanced Python shell for interactive distributed and parallel computing. When users are testing new ideas and algorithms in computer vision, evaluating the\n",
      "results directly, in an interactive way, is more convenient than the traditional *compile-then-execute* cycle. A live computing state is convenient because previous intermediate results (images, feature vectors, parameters) are kept available for exploration. [P\u00e9rez and Granger](http://dx.doi.org/10.1109/MCSE.2007.53) argue that, in a research context, determining which computations must be performed next often requires significant work."
     ]
    },
    {
     "cell_type": "markdown",
     "metadata": {
      "slideshow": {
       "slide_type": "slide"
      }
     },
     "source": [
      "## Features"
     ]
    },
    {
     "cell_type": "markdown",
     "metadata": {
      "slideshow": {
       "slide_type": "fragment"
      }
     },
     "source": [
      "- Access to *all session state*\n",
      "- `TAB` completion\n",
      "- System shell integration\n",
      "- Dynamic introspection and help\n",
      "  - Direct manipulation of objects in memory\n",
      "- *Magic commands* (secondary control system)"
     ]
    },
    {
     "cell_type": "markdown",
     "metadata": {
      "slideshow": {
       "slide_type": "subslide"
      }
     },
     "source": [
      "### Session state"
     ]
    },
    {
     "cell_type": "code",
     "collapsed": false,
     "input": [
      "2 * _1"
     ],
     "language": "python",
     "metadata": {
      "slideshow": {
       "slide_type": "fragment"
      }
     },
     "outputs": [
      {
       "metadata": {},
       "output_type": "pyout",
       "prompt_number": 2,
       "text": [
        "37.69911184307752"
       ]
      }
     ],
     "prompt_number": 2
    },
    {
     "cell_type": "code",
     "collapsed": false,
     "input": [
      "_1"
     ],
     "language": "python",
     "metadata": {
      "slideshow": {
       "slide_type": "fragment"
      }
     },
     "outputs": [
      {
       "metadata": {},
       "output_type": "pyout",
       "prompt_number": 3,
       "text": [
        "18.84955592153876"
       ]
      }
     ],
     "prompt_number": 3
    },
    {
     "cell_type": "code",
     "collapsed": false,
     "input": [
      "r"
     ],
     "language": "python",
     "metadata": {
      "slideshow": {
       "slide_type": "fragment"
      }
     },
     "outputs": [
      {
       "metadata": {},
       "output_type": "pyout",
       "prompt_number": 4,
       "text": [
        "3.0"
       ]
      }
     ],
     "prompt_number": 4
    },
    {
     "cell_type": "markdown",
     "metadata": {
      "slideshow": {
       "slide_type": "skip"
      }
     },
     "source": [
      "In an interactive computing system, users should have access to all session state. In\n",
      "IPython, this access is not just provided by the dynamically attributed variables, but also by numbered output prompts. Previous computations can be retrieved using and underscore \"`_`\" and the number of the output."
     ]
    },
    {
     "cell_type": "markdown",
     "metadata": {
      "slideshow": {
       "slide_type": "subslide"
      }
     },
     "source": [
      "### System shell integration"
     ]
    },
    {
     "cell_type": "markdown",
     "metadata": {
      "slideshow": {
       "slide_type": "skip"
      }
     },
     "source": [
      "Other useful capabilities in IPython are `TAB` completion and system shell integration. \n",
      "When the user types the `TAB` key, IPython tries to complete the current prompt with keywords or the names of methods, variables and files in the current directory. This is particularly useful when exploring unfamiliar or large APIs as in OpenCV or in the SciPy library. Regarding system shell integration, IPython cannot only call any system command, but also can capture the shell\u2019s output in Python variables and call system commands with values computed from variables."
     ]
    },
    {
     "cell_type": "markdown",
     "metadata": {
      "slideshow": {
       "slide_type": "fragment"
      }
     },
     "source": [
      "Call a system's command:"
     ]
    },
    {
     "cell_type": "code",
     "collapsed": false,
     "input": [
      "ls ../data/*.jpg"
     ],
     "language": "python",
     "metadata": {
      "slideshow": {
       "slide_type": "fragment"
      }
     },
     "outputs": [
      {
       "output_type": "stream",
       "stream": "stdout",
       "text": [
        "\u001b[0m\u001b[01;35m../data/BSD-118035.jpg\u001b[0m  \u001b[01;35m../data/BSD-65019.jpg\u001b[0m  \u001b[01;35m../data/girl.jpg\u001b[0m       \u001b[01;35m../data/skin-training.jpg\u001b[0m\r\n",
        "\u001b[01;35m../data/BSD-176035.jpg\u001b[0m  \u001b[01;35m../data/DC_0420.jpg\u001b[0m    \u001b[01;35m../data/skin-test.jpg\u001b[0m  \u001b[01;35m../data/thiago.jpg\u001b[0m\r\n"
       ]
      }
     ],
     "prompt_number": 5
    },
    {
     "cell_type": "markdown",
     "metadata": {
      "slideshow": {
       "slide_type": "fragment"
      }
     },
     "source": [
      "Store the command output in a Python variable:"
     ]
    },
    {
     "cell_type": "code",
     "collapsed": false,
     "input": [
      "jpgs_list = !ls ../data/*.jpg\n",
      "jpgs_list"
     ],
     "language": "python",
     "metadata": {
      "slideshow": {
       "slide_type": "fragment"
      }
     },
     "outputs": [
      {
       "metadata": {},
       "output_type": "pyout",
       "prompt_number": 6,
       "text": [
        "['../data/BSD-118035.jpg',\n",
        " '../data/BSD-176035.jpg',\n",
        " '../data/BSD-65019.jpg',\n",
        " '../data/DC_0420.jpg',\n",
        " '../data/girl.jpg',\n",
        " '../data/skin-test.jpg',\n",
        " '../data/skin-training.jpg',\n",
        " '../data/thiago.jpg']"
       ]
      }
     ],
     "prompt_number": 6
    },
    {
     "cell_type": "markdown",
     "metadata": {
      "slideshow": {
       "slide_type": "fragment"
      }
     },
     "source": [
      "Call a system's command passing arguments stored in Python variables:"
     ]
    },
    {
     "cell_type": "code",
     "collapsed": false,
     "input": [
      "fname = jpgs_list[0]\n",
      "!du -h $fname\n",
      "!ls -l $fname"
     ],
     "language": "python",
     "metadata": {
      "slideshow": {
       "slide_type": "fragment"
      }
     },
     "outputs": [
      {
       "output_type": "stream",
       "stream": "stdout",
       "text": [
        "24K\t../data/BSD-118035.jpg\r\n"
       ]
      },
      {
       "output_type": "stream",
       "stream": "stdout",
       "text": [
        "-rw-rw-r-- 1 thiago thiago 18556 Ago  6 17:06 ../data/BSD-118035.jpg\r\n"
       ]
      }
     ],
     "prompt_number": 7
    },
    {
     "cell_type": "markdown",
     "metadata": {
      "slideshow": {
       "slide_type": "subslide"
      }
     },
     "source": [
      "### *Magic functions*\n",
      "\n",
      "- IPython presents 98 **magic functions**\n",
      "- They are a secondary command system, providing extra capabilities"
     ]
    },
    {
     "cell_type": "code",
     "collapsed": false,
     "input": [
      "%magic"
     ],
     "language": "python",
     "metadata": {
      "slideshow": {
       "slide_type": "fragment"
      }
     },
     "outputs": [],
     "prompt_number": 8
    },
    {
     "cell_type": "markdown",
     "metadata": {
      "slideshow": {
       "slide_type": "subslide"
      }
     },
     "source": [
      "#### Some examples\n",
      "\n",
      "- `%load` and `%save` - load/save code into/from IPython\n",
      "- `%run`- run a Python file inside IPython as a program\n",
      "- `%who` - list all interactive variables\n",
      "- `%timeit` - time execution of a Python statement or expression"
     ]
    },
    {
     "cell_type": "markdown",
     "metadata": {
      "slideshow": {
       "slide_type": "subslide"
      }
     },
     "source": [
      "#### `%who`"
     ]
    },
    {
     "cell_type": "code",
     "collapsed": false,
     "input": [
      "%who"
     ],
     "language": "python",
     "metadata": {
      "slideshow": {
       "slide_type": "fragment"
      }
     },
     "outputs": [
      {
       "output_type": "stream",
       "stream": "stdout",
       "text": [
        "fname\t jpgs_list\t r\t \n"
       ]
      }
     ],
     "prompt_number": 9
    },
    {
     "cell_type": "code",
     "collapsed": false,
     "input": [
      "%who str"
     ],
     "language": "python",
     "metadata": {
      "slideshow": {
       "slide_type": "fragment"
      }
     },
     "outputs": [
      {
       "output_type": "stream",
       "stream": "stdout",
       "text": [
        "fname\t \n"
       ]
      }
     ],
     "prompt_number": 10
    },
    {
     "cell_type": "code",
     "collapsed": false,
     "input": [
      "%who float"
     ],
     "language": "python",
     "metadata": {
      "slideshow": {
       "slide_type": "fragment"
      }
     },
     "outputs": [
      {
       "output_type": "stream",
       "stream": "stdout",
       "text": [
        "r\t \n"
       ]
      }
     ],
     "prompt_number": 11
    },
    {
     "cell_type": "markdown",
     "metadata": {
      "slideshow": {
       "slide_type": "subslide"
      }
     },
     "source": [
      "#### `%timeit`"
     ]
    },
    {
     "cell_type": "code",
     "collapsed": false,
     "input": [
      "from random import random\n",
      "%timeit random()"
     ],
     "language": "python",
     "metadata": {
      "slideshow": {
       "slide_type": "fragment"
      }
     },
     "outputs": [
      {
       "output_type": "stream",
       "stream": "stdout",
       "text": [
        "10000000 loops, best of 3: 72.5 ns per loop\n"
       ]
      }
     ],
     "prompt_number": 12
    },
    {
     "cell_type": "code",
     "collapsed": false,
     "input": [
      "# Import the linear algebra module in SciPy\n",
      "from scipy import linalg"
     ],
     "language": "python",
     "metadata": {
      "slideshow": {
       "slide_type": "fragment"
      }
     },
     "outputs": [],
     "prompt_number": 13
    },
    {
     "cell_type": "markdown",
     "metadata": {
      "slideshow": {
       "slide_type": "fragment"
      }
     },
     "source": [
      "Create a random $100 \\times 100$ matrix $A$ and time the Singular Value Decompostion (SVD) $A = U\\Sigma V^\\intercal$."
     ]
    },
    {
     "cell_type": "code",
     "collapsed": false,
     "input": [
      "%%timeit A = randn(10000).reshape(100,100)\n",
      "linalg.svd(A)"
     ],
     "language": "python",
     "metadata": {
      "slideshow": {
       "slide_type": "fragment"
      }
     },
     "outputs": [
      {
       "output_type": "stream",
       "stream": "stdout",
       "text": [
        "1 loops, best of 3: 20.4 ms per loop\n"
       ]
      }
     ],
     "prompt_number": 14
    },
    {
     "cell_type": "markdown",
     "metadata": {
      "slideshow": {
       "slide_type": "slide"
      }
     },
     "source": [
      "## The IPython notebook"
     ]
    },
    {
     "cell_type": "markdown",
     "metadata": {
      "slideshow": {
       "slide_type": "fragment"
      }
     },
     "source": [
      "- Web-based version of the IPython shell\n",
      "- Chunks of text and code are organized in **cells**\n",
      "- Cells can be inserted, deleted, rearranged and executed as needed\n",
      "- Notebooks can be **converted** to Python programs, PDF documents and slides\n",
      "  - These slides and the tutorial's handouts are notebooks convertions!\n",
      "- IPython notebooks are **executable documents**"
     ]
    },
    {
     "cell_type": "markdown",
     "metadata": {
      "slideshow": {
       "slide_type": "skip"
      }
     },
     "source": [
      "The IPython *Notebook* is a web-based version of the IPython shell presenting extended functionality. In the notebook, the user can organize formatted text and code blocks in a\n",
      "flexible way. Text and code are organized in cells that can be inserted, deleted, rearranged\n",
      "and executed as needed. IPython notebooks can handle plots, mathematical formulas and code output, everything organized in a single executable document. Notebooks are being used for research notes, and on the production of [articles](http://nbviewer.ipython.org) and [books](http://nbviewer.ipython.org/github/CamDavidsonPilon/Probabilistic-Programming-and-Bayesian-Methods-for-Hackers/blob/master/Chapter1_Introduction/Chapter1_Introduction.ipynb)."
     ]
    },
    {
     "cell_type": "markdown",
     "metadata": {
      "slideshow": {
       "slide_type": "subslide"
      }
     },
     "source": [
      "### Markdown cells\n",
      "\n",
      "In a notebook, a **Markdown cell** is able the render rich-formatted text using the [Markdown markup convention](http://daringfireball.net/projects/markdown). Mathematical notation is defined using LaTeX syntax and rendered by MathJax. \n",
      "\n",
      "    Let $\\mu_I$ and $\\sigma_II$ be the mean and the standard deviation of a grayscale \n",
      "    image $I$. The whitening operation is defined by:\n",
      "    \n",
      "    $W_I[i,j] = \\frac{I[i,j] - \\mu_I}{\\sigma_I}$.\n",
      " \n",
      "    \n",
      "> Let $\\mu_I$ and $\\sigma_II$ be the mean and the standard deviation of a grayscale \n",
      "> image $I$. The whitening operation is defined by:\n",
      ">    \n",
      "> $W_I[i,j] = \\frac{I[i,j] - \\mu_I}{\\sigma_I}$."
     ]
    },
    {
     "cell_type": "markdown",
     "metadata": {
      "slideshow": {
       "slide_type": "subslide"
      }
     },
     "source": [
      "### Code cells\n",
      "\n",
      "- Code cells keep (short) Python scripts\n",
      "- The browser sends the code to the server running an *IPython Kernel*\n",
      "- Output is sent back to the browser for exhibition"
     ]
    },
    {
     "cell_type": "code",
     "collapsed": false,
     "input": [
      "hello = \"Hello, World! I'm a string in an IPython notebook code cell.\"\n",
      "print hello"
     ],
     "language": "python",
     "metadata": {
      "slideshow": {
       "slide_type": "fragment"
      }
     },
     "outputs": [
      {
       "output_type": "stream",
       "stream": "stdout",
       "text": [
        "Hello, World! I'm a string in an IPython notebook code cell.\n"
       ]
      }
     ],
     "prompt_number": 15
    },
    {
     "cell_type": "code",
     "collapsed": false,
     "input": [
      "hello.split()"
     ],
     "language": "python",
     "metadata": {
      "slideshow": {
       "slide_type": "fragment"
      }
     },
     "outputs": [
      {
       "metadata": {},
       "output_type": "pyout",
       "prompt_number": 16,
       "text": [
        "['Hello,',\n",
        " 'World!',\n",
        " \"I'm\",\n",
        " 'a',\n",
        " 'string',\n",
        " 'in',\n",
        " 'an',\n",
        " 'IPython',\n",
        " 'notebook',\n",
        " 'code',\n",
        " 'cell.']"
       ]
      }
     ],
     "prompt_number": 16
    },
    {
     "cell_type": "markdown",
     "metadata": {
      "slideshow": {
       "slide_type": "skip"
      }
     },
     "source": [
      "*Code cells* contain Python code that is sent to the IPython interpreter running on the server, executed, and the resulting output sent back to the browser for exhibition. That means that IPython can be running in a powerful machine like a server while the user is able to perform her work from a leaner system as a laptop or a tablet. If the result of a code block is a plot, it can be exhibited inside the notebook in the browser (*inline plotting*)."
     ]
    },
    {
     "cell_type": "markdown",
     "metadata": {
      "slideshow": {
       "slide_type": "slide"
      }
     },
     "source": [
      "### Notebook files (`.ipynb`)"
     ]
    },
    {
     "cell_type": "markdown",
     "metadata": {
      "slideshow": {
       "slide_type": "fragment"
      }
     },
     "source": [
      "- IPython notebooks are stored as *JSON files*\n",
      "- Can be converted to:\n",
      "    - a Python script\n",
      "    - a reStructuredText document\n",
      "    - a HTML document\n",
      "    - a LaTeX document\n",
      "    - a Markdown document\n",
      "    - slides\n",
      "  \n",
      "- For details, check:\n",
      "\n",
      "`$ ipython nbconvert --help`"
     ]
    },
    {
     "cell_type": "markdown",
     "metadata": {
      "slideshow": {
       "slide_type": "skip"
      }
     },
     "source": [
      "IPython notebooks are stored in JSON files that keep the cells\u2019 content. These files uses the extension `.ipynb` and can be exported as Python scripts, HTML documents or even printed. But what makes notebook files suitable to reproducible research is the fact they are executable documents, not only able to store textual and mathematical descriptions but also replicate the computations."
     ]
    },
    {
     "cell_type": "markdown",
     "metadata": {
      "slideshow": {
       "slide_type": "slide"
      }
     },
     "source": [
      "## Starting IPython\n",
      "\n",
      "The IPython default console (**terminal**) can be started using:\n",
      "    \n",
      "    $ ipython \n",
      "    Python 2.7.6 (default, Mar 22 2014, 22:59:56) \n",
      "    Type \"copyright\", \"credits\" or \"license\" for more information.\n",
      "    \n",
      "    IPython 2.1.0 -- An enhanced Interactive Python.\n",
      "    ?         -> Introduction and overview of IPython's features.\n",
      "    %quickref -> Quick reference.\n",
      "    help      -> Python's own help system.\n",
      "    object?   -> Details about 'object', use 'object??' for extra details.\n",
      "    \n",
      "    In [1]: \n",
      "    \n",
      "Other alternative is **qtconsole**, a console running on a graphical window:\n",
      "\n",
      "    $ ipython qtconsole"
     ]
    },
    {
     "cell_type": "markdown",
     "metadata": {
      "slideshow": {
       "slide_type": "subslide"
      }
     },
     "source": [
      "To run IPython in notebook mode:\n",
      "  \n",
      "    $ ipython notebook\n",
      "    [NotebookApp] Using existing profile dir: u'/home/thiago/.ipython/profile_default'\n",
      "    [NotebookApp] Using MathJax from CDN: http://cdn.mathjax.org/mathjax/latest/MathJax.js\n",
      "    [NotebookApp] Serving notebooks from local directory: /home/thiago\n",
      "    [NotebookApp] 0 active kernels \n",
      "    [NotebookApp] The IPython Notebook is running at: http://localhost:8888/\n",
      "    [NotebookApp] Use Control-C to stop this server and shut down all \n",
      "    kernels (twice to skip confirmation)."
     ]
    },
    {
     "cell_type": "markdown",
     "metadata": {
      "slideshow": {
       "slide_type": "fragment"
      }
     },
     "source": [
      "- The URL to access the served notebooks is `http://localhost:8888`\n",
      "- System is serving the notebooks in the directory `/home/thiago`\n",
      "- User can employ `Ctrl-C` to stop the server and shutdown the IPython kernels"
     ]
    }
   ],
   "metadata": {}
  }
 ]
}