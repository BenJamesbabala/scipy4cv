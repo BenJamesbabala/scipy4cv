{
 "metadata": {
  "name": "",
  "signature": "sha256:0b6ad7c1b063171836c7b7e2254d8218ee6ab4c83e53ac65981eda2122176b97"
 },
 "nbformat": 3,
 "nbformat_minor": 0,
 "worksheets": [
  {
   "cells": [
    {
     "cell_type": "code",
     "collapsed": false,
     "input": [
      "import cv2"
     ],
     "language": "python",
     "metadata": {},
     "outputs": [],
     "prompt_number": 2
    },
    {
     "cell_type": "markdown",
     "metadata": {},
     "source": [
      "# Temple"
     ]
    },
    {
     "cell_type": "code",
     "collapsed": false,
     "input": [
      "T1 = cv2.imread('../data/templeRing/templeR0034.png', cv2.IMREAD_GRAYSCALE).T\n",
      "sift = cv2.SIFT(nfeatures=5000)\n",
      "kpts1, D_i = sift.detectAndCompute(T1, mask=None)\n",
      "K1 = array([[k.pt[0], k.pt[1]] for k in kpts1])"
     ],
     "language": "python",
     "metadata": {},
     "outputs": [],
     "prompt_number": 14
    },
    {
     "cell_type": "code",
     "collapsed": false,
     "input": [
      "T2 = cv2.imread('../data/templeRing/templeR0036.png', cv2.IMREAD_GRAYSCALE).T\n",
      "sift = cv2.SIFT(nfeatures=5000)\n",
      "kpts2, D_j = sift.detectAndCompute(T2, mask=None)\n",
      "K2 = array([[k.pt[0], k.pt[1]] for k in kpts2])"
     ],
     "language": "python",
     "metadata": {},
     "outputs": [],
     "prompt_number": 15
    },
    {
     "cell_type": "code",
     "collapsed": false,
     "input": [
      "subplot(1,2,1)\n",
      "plot(K1[:,0], K1[:,1], 'rx')\n",
      "imshow(T1, cmap=cm.gray)\n",
      "\n",
      "subplot(1,2,2)\n",
      "plot(K2[:,0], K2[:,1], 'rx')\n",
      "imshow(T2, cmap=cm.gray)"
     ],
     "language": "python",
     "metadata": {},
     "outputs": [
      {
       "metadata": {},
       "output_type": "pyout",
       "prompt_number": 16,
       "text": [
        "<matplotlib.image.AxesImage at 0x7f47d1ecf110>"
       ]
      }
     ],
     "prompt_number": 16
    },
    {
     "cell_type": "code",
     "collapsed": false,
     "input": [
      "from scipy.spatial import cKDTree"
     ],
     "language": "python",
     "metadata": {},
     "outputs": [],
     "prompt_number": 31
    },
    {
     "cell_type": "code",
     "collapsed": false,
     "input": [
      "kdtree_j = cKDTree(D_j)\n",
      "N_i = Di.shape[0]\n",
      "d, nn = kdtree_j.query(D_i, k=2)\n",
      "ratio_mask = d[:,0]/d[:,1] < 0.6\n",
      "m = vstack((arange(N_i), nn[:,0])).T\n",
      "m = m[ratio_mask]\n",
      "\n",
      "# Filtering: If more than one feature in I matches the same feature in J, \n",
      "# we remove all of these matches\n",
      "h = {nj:0 for nj in m[:,1]}\n",
      "for nj in m[:,1]:\n",
      "    h[nj] += 1\n",
      "        \n",
      "m = array([(ni, nj) for ni, nj in m if h[nj] == 1]) "
     ],
     "language": "python",
     "metadata": {},
     "outputs": [],
     "prompt_number": 35
    },
    {
     "cell_type": "code",
     "collapsed": false,
     "input": [
      "d, nn = kdtree_j.query(D_i, k=2)\n",
      "print d.shape\n",
      "print nn.shape"
     ],
     "language": "python",
     "metadata": {},
     "outputs": [
      {
       "output_type": "stream",
       "stream": "stdout",
       "text": [
        "(1002, 2)\n",
        "(1002, 2)\n"
       ]
      }
     ],
     "prompt_number": 36
    },
    {
     "cell_type": "code",
     "collapsed": false,
     "input": [
      "def rcolor():\n",
      "    return (random.rand(), random.rand(), random.rand())\n",
      "\n",
      "def show_matches(matches):\n",
      "    \n",
      "    n_rows, n_cols = T1.shape\n",
      "    display = zeros( (n_rows, 2 * n_cols), dtype=uint8 )\n",
      "    display[:,0:n_cols] = T1\n",
      "    display[:,n_cols:] = T2\n",
      "\n",
      "    for pi, pj in matches:\n",
      "        plot([K1[pi][0], K2[pj][0] + n_cols], \n",
      "             [K1[pi][1], K2[pj][1]], \n",
      "             marker='o', linestyle='-', color=rcolor())\n",
      "        \n",
      "    imshow(display, cmap=cm.gray)"
     ],
     "language": "python",
     "metadata": {},
     "outputs": [],
     "prompt_number": 37
    },
    {
     "cell_type": "code",
     "collapsed": false,
     "input": [
      "show_matches(m)"
     ],
     "language": "python",
     "metadata": {},
     "outputs": [],
     "prompt_number": 38
    },
    {
     "cell_type": "markdown",
     "metadata": {},
     "source": [
      "## Starting the map/model"
     ]
    },
    {
     "cell_type": "markdown",
     "metadata": {},
     "source": [
      "Find the fundamental matrix $\\mathrm{\\tt F}$."
     ]
    },
    {
     "cell_type": "code",
     "collapsed": false,
     "input": [
      "xi = K1[m[:,0],:]\n",
      "xj = K2[m[:,1],:]"
     ],
     "language": "python",
     "metadata": {},
     "outputs": [],
     "prompt_number": 11
    },
    {
     "cell_type": "code",
     "collapsed": false,
     "input": [
      "inlier_i, inlier_j = {}, {}\n",
      "in_idx_i, in_idx_j = {}, {}"
     ],
     "language": "python",
     "metadata": {},
     "outputs": [],
     "prompt_number": 12
    },
    {
     "cell_type": "code",
     "collapsed": false,
     "input": [
      "F, status = cv2.findFundamentalMat(xi, xj, cv2.FM_RANSAC, 0.5, 0.9)\n",
      "assert(det(F) < 1.e-7)\n",
      "is_inlier = array(status == 1).reshape(-1)\n",
      "\n",
      "inlier_i = xi[is_inlier]\n",
      "inlier_j = xj[is_inlier]"
     ],
     "language": "python",
     "metadata": {},
     "outputs": [],
     "prompt_number": 13
    },
    {
     "cell_type": "code",
     "collapsed": false,
     "input": [
      "inlier_i.shape"
     ],
     "language": "python",
     "metadata": {},
     "outputs": [
      {
       "metadata": {},
       "output_type": "pyout",
       "prompt_number": 14,
       "text": [
        "(267, 2)"
       ]
      }
     ],
     "prompt_number": 14
    },
    {
     "cell_type": "code",
     "collapsed": false,
     "input": [
      "hg = lambda x : array([x[0], x[1], 1])"
     ],
     "language": "python",
     "metadata": {},
     "outputs": [],
     "prompt_number": 15
    },
    {
     "cell_type": "markdown",
     "metadata": {},
     "source": [
      "Find epipolar matrix $\\mathrm{\\tt E}$:"
     ]
    },
    {
     "cell_type": "code",
     "collapsed": false,
     "input": [
      "K = array([[1520.4, 0., 302.32],\n",
      "           [0, 1525.9, 246.87],\n",
      "           [0, 0, 1]])\n",
      "K"
     ],
     "language": "python",
     "metadata": {},
     "outputs": [
      {
       "metadata": {},
       "output_type": "pyout",
       "prompt_number": 16,
       "text": [
        "array([[  1.52040000e+03,   0.00000000e+00,   3.02320000e+02],\n",
        "       [  0.00000000e+00,   1.52590000e+03,   2.46870000e+02],\n",
        "       [  0.00000000e+00,   0.00000000e+00,   1.00000000e+00]])"
       ]
      }
     ],
     "prompt_number": 16
    },
    {
     "cell_type": "code",
     "collapsed": false,
     "input": [
      "E = dot(K.T, dot(F, K))\n",
      "U, s, VT = linalg.svd(E)\n",
      "\n",
      "if det(dot(U, VT)) < 0:\n",
      "    VT = -VT  \n",
      "E = dot(U, dot(diag([1,1,0]), VT)) \n",
      "V = VT.T\n",
      "    \n",
      "# Let's check Nist\u00e9r (2004) Theorem 3 constraint:\n",
      "assert(det(U) > 0)\n",
      "assert(det(V) > 0)\n",
      "# Nist\u00e9r (2004) Theorem 2 (\"Essential Condition\")\n",
      "assert sum(dot(E, dot(E.T, E)) - 0.5 * trace(dot(E, E.T)) * E) < 1.0e-10"
     ],
     "language": "python",
     "metadata": {},
     "outputs": [],
     "prompt_number": 17
    },
    {
     "cell_type": "code",
     "collapsed": false,
     "input": [
      "def dlt_triangulation(ui, Pi, uj, Pj):\n",
      "    \"\"\"Hartley & Zisserman, 12.2\"\"\"\n",
      "    ui /= ui[2]\n",
      "    xi, yi = ui[0], ui[1]\n",
      "    \n",
      "    uj /= uj[2]\n",
      "    xj, yj = uj[0], uj[1]\n",
      "    \n",
      "    a0 = xi * Pi[2,:] - Pi[0,:]\n",
      "    a1 = yi * Pi[2,:] - Pi[1,:]\n",
      "    a2 = xj * Pj[2,:] - Pj[0,:]\n",
      "    a3 = yj * Pj[2,:] - Pj[1,:]\n",
      "    \n",
      "    A = vstack((a0, a1, a2, a3))   \n",
      "    U, s, VT = linalg.svd(A)\n",
      "    V = VT.T    \n",
      "    \n",
      "    X3d = V[:,-1]    \n",
      "       \n",
      "    return X3d/X3d[3]\n",
      "\n",
      "def depth(X, P):\n",
      "    T = X[3]\n",
      "    M = P[:,0:3]\n",
      "    p4 = P[:,3]\n",
      "    m3 = M[2,:]\n",
      "    \n",
      "    x = dot(P, X)\n",
      "    w = x[2]\n",
      "    X = X/w\n",
      "    return (sign(det(M)) * w) / (T*norm(m3))"
     ],
     "language": "python",
     "metadata": {},
     "outputs": [],
     "prompt_number": 18
    },
    {
     "cell_type": "code",
     "collapsed": false,
     "input": [
      "def get_proj_matrices(E, K, xi, xj):\n",
      "    hg = lambda x : array([x[0], x[1], 1])\n",
      "    W = array([[0., -1., 0.],\n",
      "               [1.,  0., 0.],\n",
      "               [0.,  0., 1.]])\n",
      "\n",
      "    Pi = dot(K, hstack( (identity(3), zeros((3,1))) ))\n",
      "\n",
      "    U, s, VT = linalg.svd(E)\n",
      "    u3 = U[:,2].reshape(3,1)\n",
      "\n",
      "    # Candidates\n",
      "    Pa = dot(K, hstack((dot(U, dot(W ,VT)), u3)))\n",
      "    Pb = dot(K, hstack((dot(U, dot(W ,VT)), -u3)))\n",
      "    Pc = dot(K, hstack((dot(U, dot(W.T ,VT)), u3)))\n",
      "    Pd = dot(K, hstack((dot(U, dot(W.T ,VT)), -u3)))\n",
      "\n",
      "    # Find the camera for which the 3D points are *in front*\n",
      "    xxi, xxj = hg(xi[0]), hg(xj[0])\n",
      "\n",
      "    Pj = None\n",
      "    for Pk in [Pa, Pb, Pc, Pd]:\n",
      "        Q = dlt_triangulation(xxi, Pi, xxj, Pk)    \n",
      "        if depth(Q, Pi) > 0 and depth(Q, Pk) > 0:\n",
      "            Pj = Pk\n",
      "            break\n",
      "\n",
      "    assert(Pj is not None)\n",
      "    \n",
      "    return Pi, Pj"
     ],
     "language": "python",
     "metadata": {},
     "outputs": [],
     "prompt_number": 19
    },
    {
     "cell_type": "code",
     "collapsed": false,
     "input": [
      "P1, P2 = get_proj_matrices(E, K, inlier_i, inlier_j)"
     ],
     "language": "python",
     "metadata": {},
     "outputs": [],
     "prompt_number": 20
    },
    {
     "cell_type": "code",
     "collapsed": false,
     "input": [
      "print P1"
     ],
     "language": "python",
     "metadata": {},
     "outputs": [
      {
       "output_type": "stream",
       "stream": "stdout",
       "text": [
        "[[  1.52040000e+03   0.00000000e+00   3.02320000e+02   0.00000000e+00]\n",
        " [  0.00000000e+00   1.52590000e+03   2.46870000e+02   0.00000000e+00]\n",
        " [  0.00000000e+00   0.00000000e+00   1.00000000e+00   0.00000000e+00]]\n"
       ]
      }
     ],
     "prompt_number": 21
    },
    {
     "cell_type": "code",
     "collapsed": false,
     "input": [
      "print P2"
     ],
     "language": "python",
     "metadata": {},
     "outputs": [
      {
       "output_type": "stream",
       "stream": "stdout",
       "text": [
        "[[  1.41598501e+03  -3.53656018e+01   6.29880366e+02  -9.80199681e+02]\n",
        " [ -1.66130187e+01   1.52666051e+03   2.41551888e+02   2.34435820e+02]\n",
        " [ -2.20274424e-01   4.97475710e-03   9.75425256e-01   6.34871255e-01]]\n"
       ]
      }
     ],
     "prompt_number": 22
    },
    {
     "cell_type": "code",
     "collapsed": false,
     "input": [
      "X = []\n",
      "    \n",
      "for xxi, xxj in zip(inlier_i, inlier_j):\n",
      "    X_k = dlt_triangulation(hg(xxi), P1, hg(xxj), P2)\n",
      "    X.append(X_k)\n",
      "X = array(X)\n",
      "X.shape"
     ],
     "language": "python",
     "metadata": {},
     "outputs": [
      {
       "metadata": {},
       "output_type": "pyout",
       "prompt_number": 23,
       "text": [
        "(267, 4)"
       ]
      }
     ],
     "prompt_number": 23
    },
    {
     "cell_type": "code",
     "collapsed": false,
     "input": [
      "from mayavi import mlab"
     ],
     "language": "python",
     "metadata": {},
     "outputs": [],
     "prompt_number": 24
    },
    {
     "cell_type": "code",
     "collapsed": false,
     "input": [
      "num_pix = X.shape[0]\n",
      "pix_color = [rcolor() for k in range(num_pix)]"
     ],
     "language": "python",
     "metadata": {},
     "outputs": [],
     "prompt_number": 25
    },
    {
     "cell_type": "code",
     "collapsed": false,
     "input": [
      "pix = dot(P1, X.T).T\n",
      "pix = divide(pix, pix[:,2].reshape(num_pix, -1))"
     ],
     "language": "python",
     "metadata": {},
     "outputs": [],
     "prompt_number": 26
    },
    {
     "cell_type": "code",
     "collapsed": false,
     "input": [
      "figure(1)\n",
      "\n",
      "for k in range(num_pix):\n",
      "    plot(pix[k,0], pix[k,1], color=pix_color[k], marker='o')\n",
      "imshow(T1, cmap=cm.gray)"
     ],
     "language": "python",
     "metadata": {},
     "outputs": [
      {
       "metadata": {},
       "output_type": "pyout",
       "prompt_number": 27,
       "text": [
        "<matplotlib.image.AxesImage at 0x9500f90>"
       ]
      }
     ],
     "prompt_number": 27
    },
    {
     "cell_type": "code",
     "collapsed": false,
     "input": [
      "pix = dot(P2, X.T).T\n",
      "pix = divide(pix, pix[:,2].reshape(num_pix, -1))"
     ],
     "language": "python",
     "metadata": {},
     "outputs": [],
     "prompt_number": 28
    },
    {
     "cell_type": "code",
     "collapsed": false,
     "input": [
      "figure(2)\n",
      "for k in range(num_pix):\n",
      "    plot(pix[k,0], pix[k,1], color=pix_color[k], marker='o')\n",
      "imshow(T2, cmap=cm.gray)"
     ],
     "language": "python",
     "metadata": {},
     "outputs": [
      {
       "metadata": {},
       "output_type": "pyout",
       "prompt_number": 29,
       "text": [
        "<matplotlib.image.AxesImage at 0xabbabd0>"
       ]
      }
     ],
     "prompt_number": 29
    },
    {
     "cell_type": "code",
     "collapsed": false,
     "input": [
      "for k, x in enumerate(X):\n",
      "    mlab.points3d([x[0]], [x[1]], [x[2]], mode='sphere', scale_factor=0.025, color=pix_color[k])"
     ],
     "language": "python",
     "metadata": {},
     "outputs": [],
     "prompt_number": 30
    },
    {
     "cell_type": "markdown",
     "metadata": {},
     "source": [
      "## Plot for RITA paper"
     ]
    },
    {
     "cell_type": "code",
     "collapsed": false,
     "input": [
      "params = {'backend': 'pdf',\n",
      "          'text.usetex': True,\n",
      "          'axes.labelsize': 4,\n",
      "          'axes.titlesize': 11,\n",
      "          'lines.markersize':3,\n",
      "          'font.family': 'serif',\n",
      "          'ps.usedistiller': 'xpdf',\n",
      "          }\n",
      "rcParams.update(params)"
     ],
     "language": "python",
     "metadata": {},
     "outputs": [],
     "prompt_number": 37
    },
    {
     "cell_type": "code",
     "collapsed": false,
     "input": [
      "subplot(2, 2, 1)\n",
      "imshow(T1, cmap=cm.gray)\n",
      "axis('off')\n",
      "title(r'(a)')\n",
      "\n",
      "subplot(2, 2, 2)\n",
      "imshow(T2, cmap=cm.gray)\n",
      "axis('off')\n",
      "title(r'(b)')\n",
      "\n",
      "subplot(2,1,2)\n",
      "show_matches(m)\n",
      "axis('off')\n",
      "title(r'(c)')\n",
      "\n",
      "tight_layout()\n",
      "\n",
      "savefig('../fig/temple-matching.pdf', dpi=600, \n",
      "        transparent=True, bbox_inches='tight', pad_inches=0)"
     ],
     "language": "python",
     "metadata": {},
     "outputs": [],
     "prompt_number": 38
    },
    {
     "cell_type": "code",
     "collapsed": false,
     "input": [
      "pix = dot(P1, X.T).T\n",
      "pix = divide(pix, pix[:,2].reshape(num_pix, -1))\n",
      "\n",
      "for k in range(num_pix):\n",
      "    plot(pix[k,0], pix[k,1], color=pix_color[k], marker='o')\n",
      "imshow(T1, cmap=cm.gray)\n",
      "axis('off')\n",
      "savefig('../fig/temple-34-bp.pdf', dpi=600, \n",
      "        transparent=True, bbox_inches='tight', pad_inches=0)"
     ],
     "language": "python",
     "metadata": {},
     "outputs": [],
     "prompt_number": 181
    },
    {
     "cell_type": "code",
     "collapsed": false,
     "input": [
      "pix = dot(P2, X.T).T\n",
      "pix = divide(pix, pix[:,2].reshape(num_pix, -1))\n",
      "\n",
      "for k in range(num_pix):\n",
      "    plot(pix[k,0], pix[k,1], color=pix_color[k], marker='o')\n",
      "imshow(T2, cmap=cm.gray)\n",
      "axis('off')\n",
      "savefig('../fig/temple-36-bp.pdf', dpi=600, \n",
      "        transparent=True, bbox_inches='tight', pad_inches=0)"
     ],
     "language": "python",
     "metadata": {},
     "outputs": [],
     "prompt_number": 32
    },
    {
     "cell_type": "code",
     "collapsed": false,
     "input": [],
     "language": "python",
     "metadata": {},
     "outputs": []
    }
   ],
   "metadata": {}
  }
 ]
}