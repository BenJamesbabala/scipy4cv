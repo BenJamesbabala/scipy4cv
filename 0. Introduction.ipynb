{
 "metadata": {
  "celltoolbar": "Slideshow",
  "name": "",
  "signature": "sha256:3eae60126ff489e848d4e8fa616ceec3d32007f51022bf358c2d479376a15604"
 },
 "nbformat": 3,
 "nbformat_minor": 0,
 "worksheets": [
  {
   "cells": [
    {
     "cell_type": "markdown",
     "metadata": {
      "slideshow": {
       "slide_type": "slide"
      }
     },
     "source": [
      "# SciPy and OpenCV as an interactive computing environment for computer vision"
     ]
    },
    {
     "cell_type": "markdown",
     "metadata": {
      "slideshow": {
       "slide_type": "skip"
      }
     },
     "source": [
      "## About this notebook\n",
      "\n",
      "This notebook is part of the tutorial *[SciPy and OpenCV as an interactive computing environment for computer vision](http://emap.fgv.br/sibgrapi-2014/tutorials.html)* to be presented at [SIBGRAPI 2014](http://emap.fgv.br/sibgrapi-2014/). The tutorial will be also available as a full paper in [RITA](http://www.seer.ufrgs.br/index.php/rita/)."
     ]
    },
    {
     "cell_type": "markdown",
     "metadata": {
      "slideshow": {
       "slide_type": "slide"
      }
     },
     "source": [
      "## What are we looking for in computer environment?"
     ]
    },
    {
     "cell_type": "markdown",
     "metadata": {
      "slideshow": {
       "slide_type": "fragment"
      }
     },
     "source": [
      "- **Data exploration and visualization**\n",
      "  - Images, video sequences, point clouds, feature vectors,...\n",
      "- **Extensive list of tools**\n",
      "  - Image processing\n",
      "  - Machine learning\n",
      "  - Optimization\n",
      "  - Statistics\n",
      "  - Linear algebra\n",
      "- **High-performance computing** (HPC)\n",
      "- Promote **reproducible research**"
     ]
    },
    {
     "cell_type": "markdown",
     "metadata": {
      "slideshow": {
       "slide_type": "skip"
      }
     },
     "source": [
      "Computer vision practitioners need a computing environment that lets them explore data like images, video sequences, point clouds and feature vectors. Such an environment should help on the development and testing of new models and algorithms, and on the deployment of the results, either as a final software module or a scientific/technical publication. It should also provides a *extensive* list of tools, routines for image processing, machine learning, statistical inference, linear algebra, convex optimization and graph algorithms, just to name a few. Problems involving large sets of images can require high-performance computing (HPC) such that the environment should provide practical ways to parallelize and distribute computation. An ideal environment should also combine documentation and computation in a single bundle, promoting results reproducibility, but preventing the research pipeline to become more cumbersome."
     ]
    },
    {
     "cell_type": "markdown",
     "metadata": {
      "slideshow": {
       "slide_type": "slide"
      }
     },
     "source": [
      "## A Python-based environment \n",
      "![xkcd on Python](http://imgs.xkcd.com/comics/python.png)\n",
      "\n",
      "[http://xkcd.com/353/](http://xkcd.com/353/) by Randall Munroe"
     ]
    },
    {
     "cell_type": "markdown",
     "metadata": {
      "slideshow": {
       "slide_type": "subslide"
      }
     },
     "source": [
      "- A **scientific computing** environment based on Python\n",
      "  - Developed in the last **12 years**\n",
      "- Based on the **NumPy** module for $n$-dimensional arrays\n",
      "- Not just software, but a **community**\n",
      "  - This community meets at [SciPy Conferences](http://conference.scipy.org)"
     ]
    },
    {
     "cell_type": "markdown",
     "metadata": {
      "slideshow": {
       "slide_type": "skip"
      }
     },
     "source": [
      "In the last twelve years, a powerful scientific computing environment emerged from the Python programming community. This language is an attractive option for researchers: it is interpreted (a wanted property for interactive computing environments), dynamically typed,\n",
      "and presents a very concise and elegant syntax, resembling the pseudo-code found in computer science textbooks. But the tipping point for Python to become a major player in scientific computing was the advent of an efficient module for $n$-dimensional array\n",
      "representation and manipulation. The Numarray module was created by [Greenfield *et al.*](http://adsabs.harvard.edu/abs/2002adass..11..140G) to address astronomical data analysis. In 2005, Numarray successor, [NumPy](http://www.numpy.org/), appeared and became the workhorse of the Python scientific computing. An active community composed of scientists and engineers flourished around Python and NumPy, represented today by the SciPy Stack and the [SciPy Conferences](http://conference.scipy.org).  "
     ]
    },
    {
     "cell_type": "markdown",
     "metadata": {
      "slideshow": {
       "slide_type": "slide"
      }
     },
     "source": [
      "## Why is an interactive environment important to computer vision?"
     ]
    },
    {
     "cell_type": "markdown",
     "metadata": {
      "slideshow": {
       "slide_type": "fragment"
      }
     },
     "source": [
      "In computer vision, the practitioner is interested in inferring the **world state** from images, that act as **observations**. The statistical relation between the world state and the observed images is defined by **models**. A particular model is defined by **parameters**, chosen  by **learning algorithms**. Finally, the world state is estimated by **inference algorithms**."
     ]
    },
    {
     "cell_type": "markdown",
     "metadata": {
      "slideshow": {
       "slide_type": "skip"
      }
     },
     "source": [
      " This *vision on computer vision* is properly presented by Prince in [his book](http://www.computervisionmodels.com/) and translates the state-of-the-art of contemporary research in the field, which is deeply associated to machine learning nowadays."
     ]
    },
    {
     "cell_type": "markdown",
     "metadata": {
      "slideshow": {
       "slide_type": "subslide"
      }
     },
     "source": [
      "- Environment should enable tinkering with machine learning techniques\n",
      "- Visualization and exploration tools to address problems involving:\n",
      "    - generalization,\n",
      "    - overfitting,\n",
      "    - dimensionality reducion,\n",
      "    - optimization\n",
      "- The SciPy environment provides these capabilities"
     ]
    },
    {
     "cell_type": "markdown",
     "metadata": {
      "slideshow": {
       "slide_type": "skip"
      }
     },
     "source": [
      "The development of these models and subsequent problems in learning and inference require a computing environment that allows proper tinkering with machine learning techniques. Visualization and exploration tools are necessary to address problems involving generalization, overfitting, dimensionality reduction and optimization. An interactive computing environment as [IPython](ython.org/), enriched with tools from the SciPy Stack and the OpenCV library, can address these needs."
     ]
    },
    {
     "cell_type": "markdown",
     "metadata": {
      "slideshow": {
       "slide_type": "slide"
      }
     },
     "source": [
      "## This tutorial presents\n",
      "\n",
      "- Interactive computing *and* HPC with the **IPython** shell\n",
      "- **OpenCV** use under Python\n",
      "- **Matplotlib** for visualization and 2D plotting\n",
      "- The SciPy **scientific library**\n",
      "- Machine learning with the **scikit-learn** module"
     ]
    },
    {
     "cell_type": "markdown",
     "metadata": {
      "slideshow": {
       "slide_type": "fragment"
      }
     },
     "source": [
      "This tutorial provides a *glimpse*, not a broad and deep coverage."
     ]
    },
    {
     "cell_type": "markdown",
     "metadata": {
      "slideshow": {
       "slide_type": "skip"
      }
     },
     "source": [
      "The present tutorial provides a short overview on this Python-based computing environment. Considering the large set of tools available and the space constraints, this tutorial does not pretend to be a complete reference or a broad review. It provides just a glimpse of the environment's capabilities to the computer vision community, briefly presenting and discussing some problems and code examples. These examples can guide the user's first steps and the provided references help on the next ones. "
     ]
    },
    {
     "cell_type": "markdown",
     "metadata": {
      "slideshow": {
       "slide_type": "slide"
      }
     },
     "source": [
      "**IPython notebooks** presenting the complete code for the examples are available on \n",
      "\n",
      "[http://nbviewer.ipython.org/github/thsant/scipy4cv](http://nbviewer.ipython.org/github/thsant/scipy4cv) \n",
      "\n",
      "and on GitHub:\n",
      "\n",
      "[https://github.com/thsant/scipy4cv/tree/master/](https://github.com/thsant/scipy4cv/tree/master/)\n",
      "\n",
      " "
     ]
    }
   ],
   "metadata": {}
  }
 ]
}