{
 "metadata": {
  "celltoolbar": "Slideshow",
  "name": "",
  "signature": "sha256:a0be6b885258db1f6c5737d789aad80513b4130ba90bd4fd249dd65167eab758"
 },
 "nbformat": 3,
 "nbformat_minor": 0,
 "worksheets": [
  {
   "cells": [
    {
     "cell_type": "markdown",
     "metadata": {
      "slideshow": {
       "slide_type": "slide"
      }
     },
     "source": [
      "# SciPy and OpenCV as an interactive computing environment for computer vision"
     ]
    },
    {
     "cell_type": "markdown",
     "metadata": {
      "slideshow": {
       "slide_type": "skip"
      }
     },
     "source": [
      "## About this notebook\n",
      "\n",
      "This notebook is part of the tutorial *[SciPy and OpenCV as an interactive computing environment for computer vision](http://emap.fgv.br/sibgrapi-2014/tutorials.html)* to be presented at [SIBGRAPI 2014](http://emap.fgv.br/sibgrapi-2014/). The tutorial will be also available as a full paper in [RITA](http://www.seer.ufrgs.br/index.php/rita/)."
     ]
    },
    {
     "cell_type": "markdown",
     "metadata": {
      "slideshow": {
       "slide_type": "skip"
      }
     },
     "source": [
      "Computer vision practitioners need a computing environment that lets them explore data like images, video sequences, point clouds and feature vectors. Such an environment should help on the development and testing of new models and algorithms, and on the deployment of the results, either as a final software module or a scientific/technical publication. It should also provides a *extensive* list of tools, routines for image processing, machine learning, statistical inference, linear algebra, convex optimization and graph algorithms, just to name a few. Problems involving large sets of images can require high-performance computing (HPC) such that the environment should provide practical ways to parallelize and distribute computation. An ideal environment should also combine documentation and computation in a single bundle, promoting results reproducibility, but preventing the research pipeline to become more cumbersome."
     ]
    },
    {
     "cell_type": "markdown",
     "metadata": {
      "slideshow": {
       "slide_type": "skip"
      }
     },
     "source": [
      "In the last twelve years, a powerful scientific computing environment emerged from the Python programming community. This language is an attractive option for researchers: it is interpreted (a wanted property for interactive computing environments), dynamically typed,\n",
      "and presents a very concise and elegant syntax, resembling the pseudo-code found in computer science textbooks. But the tipping point for Python to become a major player in scientific computing was the advent of an efficient module for $n$-dimensional array\n",
      "representation and manipulation. The Numarray module was created by [Greenfield *et al.*](http://adsabs.harvard.edu/abs/2002adass..11..140G) to address astronomical data analysis. In 2005, Numarray successor, [NumPy](http://www.numpy.org/), appeared and became the workhorse of the Python scientific computing. An active community composed of scientists and engineers flourished around Python and NumPy, represented today by the SciPy Stack and the [SciPy Conferences](http://conference.scipy.org).  "
     ]
    },
    {
     "cell_type": "markdown",
     "metadata": {
      "slideshow": {
       "slide_type": "slide"
      }
     },
     "source": [
      "## Why is an interactive environment important to computer vision?"
     ]
    },
    {
     "cell_type": "markdown",
     "metadata": {
      "slideshow": {
       "slide_type": "skip"
      }
     },
     "source": [
      "In computer vision, the practitioner is interested in inferring the **world state** from images, that act as **observations**. The statistical relation between the world state and the observed images is defined by **models**. A particular model is defined by **parameters**, chosen  by **learning algorithms**. Finally, the world state is estimated by **inference algorithms**. This *vision on computer vision* is properly presented by Prince in [his book](http://www.computervisionmodels.com/) and translates the state-of-the-art of contemporary research in the field, which is deeply associated to machine learning nowadays."
     ]
    },
    {
     "cell_type": "markdown",
     "metadata": {
      "slideshow": {
       "slide_type": "skip"
      }
     },
     "source": [
      "The development of these models and subsequent problems in learning and inference require a computing environment that allows proper tinkering with machine learning techniques. Visualization and exploration tools are necessary to address problems involving generalization, overfitting, dimensionality reduction and optimization. An interactive computing environment as [IPython](ython.org/), enriched with tools from the SciPy Stack and the OpenCV library, can address these needs."
     ]
    },
    {
     "cell_type": "markdown",
     "metadata": {
      "slideshow": {
       "slide_type": "skip"
      }
     },
     "source": [
      "The present tutorial provides a short overview on this Python-based computing environment. Considering the large set of tools available and the space constraints, this tutorial does not pretend to be a complete reference or a broad review. It provides just a glimpse of the environment's capabilities to the computer vision community, briefly presenting and discussing some problems and code examples. These examples can guide the user's first steps and the provided references help on the next ones. "
     ]
    },
    {
     "cell_type": "markdown",
     "metadata": {
      "slideshow": {
       "slide_type": "skip"
      }
     },
     "source": [
      "**IPython notebooks** presenting the complete code for the examples are available on \n",
      "\n",
      "[http://nbviewer.ipython.org/github/thsant/scipy4cv](http://nbviewer.ipython.org/github/thsant/scipy4cv) \n",
      "\n",
      "and on GitHub:\n",
      "\n",
      "[https://github.com/thsant/scipy4cv/tree/master/](https://github.com/thsant/scipy4cv/tree/master/)\n",
      "\n",
      " "
     ]
    }
   ],
   "metadata": {}
  }
 ]
}