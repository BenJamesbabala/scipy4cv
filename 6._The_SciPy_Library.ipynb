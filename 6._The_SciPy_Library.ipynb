{
 "metadata": {
  "celltoolbar": "Slideshow",
  "name": "",
  "signature": "sha256:8bb4d45ca25c1f25a3ee5813c647be1c3476f5c6357d4c75310a11714c8d9beb"
 },
 "nbformat": 3,
 "nbformat_minor": 0,
 "worksheets": [
  {
   "cells": [
    {
     "cell_type": "markdown",
     "metadata": {
      "slideshow": {
       "slide_type": "slide"
      }
     },
     "source": [
      "# The SciPy Library"
     ]
    },
    {
     "cell_type": "markdown",
     "metadata": {
      "slideshow": {
       "slide_type": "slide"
      }
     },
     "source": [
      "- The SciPy Library includes modules for\n",
      "    - optimization,\n",
      "    - interpolation,\n",
      "    - signal processing,\n",
      "    - linear algebra,\n",
      "    - sparse matrix representation,\n",
      "    - KD-Trees, Delaunay triangulation, convex hull computation\n",
      "    - statistics, and others"
     ]
    },
    {
     "cell_type": "markdown",
     "metadata": {
      "slideshow": {
       "slide_type": "skip"
      }
     },
     "source": [
      "The SciPy library includes modules for optimization, interpolation, signal processing, linear algebra, statistics, sparse matrix representation and operation, among others. It also includes the `spatial` module, containing an implementations for the KD-Tree data structure (used on nearest-neighbor queries), Delaunay triangulation and convex hull computation."
     ]
    },
    {
     "cell_type": "markdown",
     "metadata": {
      "slideshow": {
       "slide_type": "slide"
      }
     },
     "source": [
      "## Linear algebra using `scipy.linalg`"
     ]
    },
    {
     "cell_type": "markdown",
     "metadata": {
      "slideshow": {
       "slide_type": "slide"
      }
     },
     "source": [
      "- Linear algebra is particularly important to **projective geometry**\n",
      "- Consider a 3D point $\\mathbf{X}_i$\n",
      "- Let $\\mathrm{\\tt P}$ be a **camera matrix**\n",
      "- The projection of $\\mathbf{X}_i$ on the camera plane is $\\mathbf{x}_i = \\mathrm{\\tt P} \\mathbf{X}_i$"
     ]
    },
    {
     "cell_type": "markdown",
     "metadata": {
      "slideshow": {
       "slide_type": "skip"
      }
     },
     "source": [
      "Linear algebra is an essential mathematical tool for computer vision and machine learning. It is particularly important in problems involving projective geometry as in [multiple \n",
      "view computer vision](http://www.robots.ox.ac.uk/~vgg/hzbook/). Consider a 3D point $\\mathbf{X}_i$, represented as a *homogeneous* 4-d array, and a projective matrix $\\mathrm{\\tt P}$, represented as a $3 \\times 4$ array and corresponding to a camera. The\n",
      "projection of $\\mathbf{X}_i$ on the camera\u2019s image plane, $\\mathbf{x}_i$, can be elegantly coded as:"
     ]
    },
    {
     "cell_type": "code",
     "collapsed": false,
     "input": [
      "P = array([[  1.41598501e+03,  -3.53656018e+01,   6.29880366e+02,  -9.80199681e+02],\n",
      "           [ -1.66130187e+01,   1.52666051e+03,   2.41551888e+02,   2.34435820e+02],\n",
      "           [ -2.20274424e-01,   4.97475710e-03,   9.75425256e-01,   6.34871255e-01]])\n",
      "\n",
      "X = array([-0.11652141, -0.24440939,  3.23347243,  1.])\n",
      "\n",
      "x = dot(P, X)\n",
      "x"
     ],
     "language": "python",
     "metadata": {
      "slideshow": {
       "slide_type": "fragment"
      }
     },
     "outputs": [
      {
       "metadata": {},
       "output_type": "pyout",
       "prompt_number": 3,
       "text": [
        "array([ 900.15223192,  644.29279864,    3.81333274])"
       ]
      }
     ],
     "prompt_number": 3
    },
    {
     "cell_type": "markdown",
     "metadata": {
      "slideshow": {
       "slide_type": "skip"
      }
     },
     "source": [
      "The `dot` function, for 2-D arrays, computes the matrix multiplication, and for 1-D arrays it calculates the inner product of vectors. "
     ]
    },
    {
     "cell_type": "markdown",
     "metadata": {
      "slideshow": {
       "slide_type": "slide"
      }
     },
     "source": [
      "The pixel inhomogeneous coordinates can be recovered using:"
     ]
    },
    {
     "cell_type": "code",
     "collapsed": false,
     "input": [
      "x_coord = x[0]/x[2]\n",
      "y_coord = x[1]/x[2]\n",
      "x_coord, y_coord"
     ],
     "language": "python",
     "metadata": {
      "slideshow": {
       "slide_type": "fragment"
      }
     },
     "outputs": [
      {
       "metadata": {},
       "output_type": "pyout",
       "prompt_number": 5,
       "text": [
        "(236.05394389057571, 168.95792816629523)"
       ]
      }
     ],
     "prompt_number": 5
    },
    {
     "cell_type": "markdown",
     "metadata": {
      "slideshow": {
       "slide_type": "slide"
      }
     },
     "source": [
      "### Singular value decompostion"
     ]
    },
    {
     "cell_type": "markdown",
     "metadata": {
      "slideshow": {
       "slide_type": "slide"
      }
     },
     "source": [
      "- Several problems in multiple view geometry involves **over-determined systems of equations**\n",
      "     - Homography estimation\n",
      "     - 3D points triangulation\n",
      "- $A\\mathbf{x}$ is homogeneous systems of linear equations\n",
      "- Can be solved using **Singular Value Decomposition (SVD)**"
     ]
    },
    {
     "cell_type": "markdown",
     "metadata": {
      "slideshow": {
       "slide_type": "skip"
      }
     },
     "source": [
      "Estimation problems in projective geometry involve the solution of over-determined systems of equations. More precisely, these problems are formalized as *linear least-squares*\n",
      "resolutions of homogeneous systems of linear equations in the form $A\\mathbf{x}$, minimizing $A\\mathbf{x}$ subject to $\\| \\mathbf{x} \\| = 1$."
     ]
    },
    {
     "cell_type": "markdown",
     "metadata": {
      "slideshow": {
       "slide_type": "skip"
      }
     },
     "source": [
      "The minimization problem can be solved using **singular value decomposition (SVD)**, a matrix decomposition particularly useful in numerical computations. SVD decomposes $A$\n",
      "as $A = UDV^\\intercal$ and the $\\mathbf{x}$ solution corresponds to the last columns of $V$."
     ]
    },
    {
     "cell_type": "code",
     "collapsed": false,
     "input": [
      "def dlt_triangulation(ui, Pi, uj, Pj):\n",
      "    \"\"\"Hartley & Zisserman, 12.2\"\"\"\n",
      "    ui /= ui[2]\n",
      "    xi, yi = ui[0], ui[1]\n",
      "    \n",
      "    uj /= uj[2]\n",
      "    xj, yj = uj[0], uj[1]\n",
      "    \n",
      "    a0 = xi * Pi[2,:] - Pi[0,:]\n",
      "    a1 = yi * Pi[2,:] - Pi[1,:]\n",
      "    a2 = xj * Pj[2,:] - Pj[0,:]\n",
      "    a3 = yj * Pj[2,:] - Pj[1,:]\n",
      "    \n",
      "    A = vstack((a0, a1, a2, a3))   \n",
      "    U, s, VT = linalg.svd(A)\n",
      "    V = VT.T    \n",
      "    \n",
      "    X3d = V[:,-1]    \n",
      "       \n",
      "    return X3d/X3d[3]"
     ],
     "language": "python",
     "metadata": {
      "slideshow": {
       "slide_type": "subslide"
      }
     },
     "outputs": [],
     "prompt_number": 8
    },
    {
     "cell_type": "markdown",
     "metadata": {
      "slideshow": {
       "slide_type": "slide"
      }
     },
     "source": [
      "Examples of `spatial.KDTree` and `linalg.svd` will be presented in the Structure from Motion example."
     ]
    }
   ],
   "metadata": {}
  }
 ]
}